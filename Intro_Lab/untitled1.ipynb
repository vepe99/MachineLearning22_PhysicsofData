{
 "cells": [
  {
   "cell_type": "markdown",
   "metadata": {},
   "source": [
    "# Solution of Intro LAB\n",
    "\n",
    "In this example a simple linear regression is performed with scipy and scikit learn. The implementation of the least square algorithm is also presented."
   ]
  },
  {
   "cell_type": "code",
   "execution_count": null,
   "metadata": {},
   "outputs": [],
   "source": [
    "#import all required packages\n",
    "import matplotlib.pyplot as plt\n",
    "import csv\n",
    "from scipy import stats\n",
    "import numpy as np\n",
    "import sklearn as sl\n",
    "from sklearn import linear_model"
   ]
  },
  {
   "cell_type": "code",
   "execution_count": null,
   "metadata": {},
   "outputs": [],
   "source": [
    "#read used car data from file\n",
    "filename = \"data/km_year_power_price.csv\"\n",
    "lines = csv.reader(open(filename, newline=''), delimiter=',')\n",
    "\n",
    "print(type(lines))\n",
    "\n",
    "data=list(lines)\n",
    "for line in data[0:10]:\n",
    "    print(line)"
   ]
  },
  {
   "cell_type": "code",
   "execution_count": null,
   "metadata": {},
   "outputs": [],
   "source": [
    "with open(filename, 'r') as f:\n",
    "    reader = csv.reader(f, delimiter=',')\n",
    "    # get header from first row\n",
    "    headers = next(reader)\n",
    "    # get all the rows as a list\n",
    "    data = list(reader)\n",
    "    # transform data into numpy array\n",
    "    data = np.array(data).astype(float)\n",
    "    \n",
    "print(headers)\n",
    "print(data.shape)\n",
    "print(data[:3])"
   ]
  },
  {
   "cell_type": "code",
   "execution_count": null,
   "metadata": {},
   "outputs": [],
   "source": [
    "# linear regression with linregress (estimate price from year)\n",
    "slope, intercept, r_value, p_value, std_err = stats.linregress(data[:,1], data[:,3])\n",
    "\n",
    "print('slope (linregress): ', slope,'  intercept (linregress):', intercept);\n",
    "print('correlation coefficient:', r_value)"
   ]
  },
  {
   "cell_type": "code",
   "execution_count": null,
   "metadata": {},
   "outputs": [],
   "source": [
    "# linear regression with linear_model.LinearRegression() (estimate price from year)\n",
    "# The fit method requires X to have shape (n_samples, n_features) and Y (n_samples, n_targets)\n",
    "# Even if we have 1 feature and 1 target recall that in Python a mx1 matrix is different from a 1D array -> need to reshape\n",
    "reg = sl.linear_model.LinearRegression().fit(data[:,1].reshape(-1,1), data[:,3].reshape(-1,1))\n",
    "\n",
    "print('slope (sl.linear_model): ', reg.coef_,'  intercept (sl.linear_model):', reg.intercept_);\n",
    "# The coefficient of determination R^2 is equal to the correlation coefficient squared r^2 only under some very specific conditions\n",
    "print('correlation coefficient:', np.sqrt(reg.score(data[:,1].reshape(-1,1), data[:,3].reshape(-1,1))))"
   ]
  },
  {
   "cell_type": "code",
   "execution_count": null,
   "metadata": {},
   "outputs": [],
   "source": [
    "# linear regression with least squares (estimate price from year)\n",
    "\n",
    "n = len(data[:,1]);\n",
    "\n",
    "vx = np.zeros((n,2),);\n",
    "vx[:,0] = 1; # we use homogeneous coordinates\n",
    "vx[:,1] = data[:,1];\n",
    "vy = data[:,3];\n",
    "\n",
    "A = np.zeros((2,2))\n",
    "b = np.zeros((2,1))\n",
    "for i in range(0,n):\n",
    "    e = vx[i,:].reshape(2,1)  # 1D array is different from 2x1 matrix\n",
    "    A = A + np.matmul(e,np.transpose(e))\n",
    "    b = b + vy[i]*e\n",
    "\n",
    "w = np.matmul(np.linalg.inv(A),b); # solve least squares\n",
    "\n",
    "print('slope (least squares): ', w[1],'  intercept (least squares):', w[0]);"
   ]
  },
  {
   "cell_type": "code",
   "execution_count": null,
   "metadata": {},
   "outputs": [],
   "source": [
    "# plot the data, the 3 methods almost perfectly overlap\n",
    "plt.plot(data[:,1], data[:,3], 'o', label='original data')\n",
    "plt.plot(data[:,1], intercept + slope*data[:,1], 'r*', label='fitted line linregress')\n",
    "plt.plot(data[:,1], float(reg.intercept_) + float(reg.coef_)*data[:,1], 'y+', label='fitted line Linear Model')\n",
    "plt.plot(data[:,1], w[0] + w[1]*data[:,1], 'g', label='fitted line Least Squares')\n",
    "plt.legend()\n",
    "plt.xlabel('Year')\n",
    "plt.ylabel('Price [$]')\n",
    "plt.show()\n",
    "\n",
    "print('correlation coefficient wrt the year:', r_value) "
   ]
  },
  {
   "cell_type": "code",
   "execution_count": null,
   "metadata": {},
   "outputs": [],
   "source": [
    "# linear regression with linregress (estimate price from power)\n",
    "\n",
    "slope, intercept, r_value, p_value, std_err = stats.linregress(data[:,2], data[:,3])\n",
    "plt.plot(data[:,2], data[:,3], 'o', label='original data')\n",
    "plt.plot(data[:,2], intercept + slope*data[:,2], 'r', label='fitted line')\n",
    "plt.legend()\n",
    "plt.xlabel('Power')\n",
    "plt.ylabel('Price [$]')\n",
    "plt.show()\n",
    "\n",
    "print('correlation coefficient wrt the power:', r_value) #the power is the best feature!"
   ]
  },
  {
   "cell_type": "code",
   "execution_count": null,
   "metadata": {},
   "outputs": [],
   "source": [
    "# linear regression with linregress (estimate price from km)\n",
    "\n",
    "slope, intercept, r_value, p_value, std_err = stats.linregress(data[:,0], data[:,3])\n",
    "plt.plot(data[:,0], data[:,3], 'o', label='original data')\n",
    "plt.plot(data[:,0], intercept + slope*data[:,0], 'r', label='fitted line')\n",
    "plt.legend()\n",
    "plt.xlabel('Km')\n",
    "plt.ylabel('Price [$]')\n",
    "plt.show()\n",
    "\n",
    "print('correlation coefficient wrt the km:', r_value) #km are not so good for the estimation"
   ]
  },
  {
   "cell_type": "code",
   "execution_count": null,
   "metadata": {},
   "outputs": [],
   "source": [
    "# 2D linear regression with linear model (estimate price from year and power)\n",
    "\n",
    "reg = sl.linear_model.LinearRegression().fit(data[:,1:3].reshape(-1,2), data[:,3].reshape(-1,1))\n",
    "print ('slope coefficients:',reg.coef_)\n",
    "print ('intercept:', reg.intercept_)\n",
    "\n",
    "# 3D plot (blue real data, red estimated ones)\n",
    "\n",
    "from mpl_toolkits.mplot3d import Axes3D\n",
    "fig = plt.figure()\n",
    "ax = fig.add_subplot(111, projection='3d')\n",
    "ax.scatter(data[:,1], data[:,2], data[:,3], zdir='z', s=5, c='b', depthshade=True)\n",
    "ax.scatter(data[:,1], data[:,2], reg.intercept_+reg.coef_[:,0]*data[:,1]+reg.coef_[:,1]*data[:,2], zdir='z', s=5, c='r', depthshade=True)\n",
    "plt.show()\n",
    "\n",
    "print('correlation coefficient:', np.sqrt(reg.score(data[:,1:3].reshape(-1,2), data[:,3].reshape(-1,1))))\n",
    "print('Much better correlation than the two features alone!')"
   ]
  },
  {
   "cell_type": "code",
   "execution_count": null,
   "metadata": {},
   "outputs": [],
   "source": []
  },
  {
   "cell_type": "code",
   "execution_count": null,
   "metadata": {},
   "outputs": [],
   "source": []
  }
 ],
 "metadata": {
  "kernelspec": {
   "display_name": "Python 3",
   "language": "python",
   "name": "python3"
  },
  "language_info": {
   "codemirror_mode": {
    "name": "ipython",
    "version": 3
   },
   "file_extension": ".py",
   "mimetype": "text/x-python",
   "name": "python",
   "nbconvert_exporter": "python",
   "pygments_lexer": "ipython3",
   "version": "3.8.8"
  }
 },
 "nbformat": 4,
 "nbformat_minor": 2
}